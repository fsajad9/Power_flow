{
  "nbformat": 4,
  "nbformat_minor": 0,
  "metadata": {
    "colab": {
      "provenance": [],
      "authorship_tag": "ABX9TyOBMurdc7/+yTv0nrPfqK/t",
      "include_colab_link": true
    },
    "kernelspec": {
      "name": "python3",
      "display_name": "Python 3"
    },
    "language_info": {
      "name": "python"
    }
  },
  "cells": [
    {
      "cell_type": "markdown",
      "metadata": {
        "id": "view-in-github",
        "colab_type": "text"
      },
      "source": [
        "<a href=\"https://colab.research.google.com/github/fsajad9/Power_flow/blob/main/IPM1.ipynb\" target=\"_parent\"><img src=\"https://colab.research.google.com/assets/colab-badge.svg\" alt=\"Open In Colab\"/></a>"
      ]
    },
    {
      "cell_type": "code",
      "execution_count": 61,
      "metadata": {
        "id": "DYlgvVx5ueNp"
      },
      "outputs": [],
      "source": [
        "\n",
        "import numpy as np\n",
        "import matplotlib.pyplot as plt\n"
      ]
    },
    {
      "cell_type": "code",
      "source": [
        "m=100\n",
        "n=2*m\n",
        "I1=np.eye(m)\n",
        "A=np.block([I1,I1])\n",
        "ee=np.array([1 for i in range(m)])\n",
        "b=2*ee\n",
        "zv=np.zeros(m)\n",
        "c=np.block([-ee,zv])\n",
        "y=-2*ee\n",
        "s=np.block([ee,2*ee])\n",
        "x=np.block([ee,ee])\n",
        "Z1=np.zeros((m,m))\n",
        "Z2=np.zeros((2*m,m))\n",
        "Z3=np.zeros((2*m,2*m))\n",
        "ep=10**(-5)\n",
        "I=np.eye(2*m)\n",
        "mu=1\n",
        "thet=0.9\n",
        "gap=np.dot(c.T,x)-np.dot(b.T,y)\n",
        "k=0\n",
        "eee=np.array([1 for i in range(2*m)])\n",
        "f1=[]"
      ],
      "metadata": {
        "id": "HYXbOdG4WT4C"
      },
      "execution_count": 62,
      "outputs": []
    },
    {
      "cell_type": "code",
      "source": [
        "while gap>ep:\n",
        "  k+=1\n",
        "  mu=mu*(1-thet)\n",
        "  #mu=np.dot(x.T,s)/4\n",
        "  X=np.diag(x)\n",
        "  S=np.diag(s)\n",
        "  M=np.block([[A,Z1,Z2.T],[Z3,A.T,I],[S,Z2,X]])\n",
        "  B=np.block([zv,zv,zv,mu*eee-x*s])\n",
        "  sol=np.dot(np.linalg.inv(M),B.T)\n",
        "  x=x+0.1*sol[0:2*m]\n",
        "  y=y+0.1*sol[2*m:3*m]\n",
        "  s=s+0.1*sol[3*m:]\n",
        "  f1.append(gap)\n",
        "  gap=np.dot(c.T,x)-np.dot(b.T,y)\n",
        "\n",
        "  "
      ],
      "metadata": {
        "id": "ULzTPeL0a5AA"
      },
      "execution_count": 63,
      "outputs": []
    },
    {
      "cell_type": "code",
      "source": [
        "gap"
      ],
      "metadata": {
        "id": "OYRjJWjHd7sJ",
        "outputId": "f78c6aae-b61e-404b-c58d-41e64b2812ff",
        "colab": {
          "base_uri": "https://localhost:8080/"
        }
      },
      "execution_count": 64,
      "outputs": [
        {
          "output_type": "execute_result",
          "data": {
            "text/plain": [
              "9.473204926280232e-06"
            ]
          },
          "metadata": {},
          "execution_count": 64
        }
      ]
    },
    {
      "cell_type": "code",
      "source": [
        "plt.plot(f1)\n",
        "plt.yscale('log')\n",
        "plt.xlabel('Iter')\n",
        "plt.ylabel('Gap')"
      ],
      "metadata": {
        "id": "SWhO8A01hoJV",
        "outputId": "ae14525a-cc4b-4d4a-b3fc-2bf49b4a4e0f",
        "colab": {
          "base_uri": "https://localhost:8080/",
          "height": 296
        }
      },
      "execution_count": 65,
      "outputs": [
        {
          "output_type": "execute_result",
          "data": {
            "text/plain": [
              "Text(0, 0.5, 'Gap')"
            ]
          },
          "metadata": {},
          "execution_count": 65
        },
        {
          "output_type": "display_data",
          "data": {
            "text/plain": [
              "<Figure size 432x288 with 1 Axes>"
            ],
            "image/png": "[encoded data removed]"
          },
          "metadata": {
            "needs_background": "light"
          }
        }
      ]
    },
    {
      "cell_type": "code",
      "source": [
        "A=np.array([[1,0,1,0],[0,1,0,1]])\n",
        "b=np.array([2,2])\n",
        "c=np.array([-1,-1,0,0])\n",
        "y=np.array([-2,-2])\n",
        "s=np.array([1,1,2,2])\n",
        "x=np.array([1,1,1,1])\n",
        "I=np.eye(4)\n",
        "Z1=np.zeros((2,2))\n",
        "Z2=np.zeros((4,2))\n",
        "Z3=np.zeros((4,4))\n",
        "ep=10**(-5)\n",
        "mu=1\n",
        "thet=0.9\n",
        "gap=np.dot(c.T,x)-np.dot(b.T,y)\n",
        "k=0"
      ],
      "metadata": {
        "id": "SJWZ4vCLFeTC"
      },
      "execution_count": 66,
      "outputs": []
    },
    {
      "cell_type": "code",
      "source": [
        "while gap>ep:\n",
        "  k+=1\n",
        "  mu=mu*(1-thet)\n",
        "  #mu=np.dot(x.T,s)/4\n",
        "  X=np.diag(x)\n",
        "  S=np.diag(s)\n",
        "  M=np.block([[A,Z1,Z2.T],[Z3,A.T,I],[S,Z2,X]])\n",
        "  B=np.block([0,0,0,0,0,0,mu-x[0]*s[0],mu-x[1]*s[1],mu-x[2]*s[2],mu-x[3]*s[3]])\n",
        "  sol=np.dot(np.linalg.inv(M),B.T)\n",
        "  x=x+0.2*sol[0:4]\n",
        "  y=y+0.2*sol[4:6]\n",
        "  s=s+0.2*sol[6:10]\n",
        "  gap=np.dot(c.T,x)-np.dot(b.T,y)\n",
        "\n",
        "\n",
        "\n"
      ],
      "metadata": {
        "id": "pPPclCK5HvPZ"
      },
      "execution_count": 67,
      "outputs": []
    },
    {
      "cell_type": "code",
      "source": [
        "mu"
      ],
      "metadata": {
        "colab": {
          "base_uri": "https://localhost:8080/"
        },
        "id": "CIR9x1HaUo5q",
        "outputId": "c17ca469-675f-4d99-eb8a-e8681e1d45b4"
      },
      "execution_count": 68,
      "outputs": [
        {
          "output_type": "execute_result",
          "data": {
            "text/plain": [
              "9.999999999999863e-61"
            ]
          },
          "metadata": {},
          "execution_count": 68
        }
      ]
    },
    {
      "cell_type": "code",
      "source": [
        "k"
      ],
      "metadata": {
        "colab": {
          "base_uri": "https://localhost:8080/"
        },
        "id": "prbDpKI1NMjv",
        "outputId": "7eb3e0ed-e201-422d-9ae3-6359fec70a10"
      },
      "execution_count": 69,
      "outputs": [
        {
          "output_type": "execute_result",
          "data": {
            "text/plain": [
              "60"
            ]
          },
          "metadata": {},
          "execution_count": 69
        }
      ]
    }
  ]
}