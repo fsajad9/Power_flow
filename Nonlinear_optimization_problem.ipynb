{
  "nbformat": 4,
  "nbformat_minor": 0,
  "metadata": {
    "colab": {
      "provenance": [],
      "authorship_tag": "ABX9TyPTZYLR1JkEK2Dx4ZqA9sQt",
      "include_colab_link": true
    },
    "kernelspec": {
      "name": "python3",
      "display_name": "Python 3"
    },
    "language_info": {
      "name": "python"
    }
  },
  "cells": [
    {
      "cell_type": "markdown",
      "metadata": {
        "id": "view-in-github",
        "colab_type": "text"
      },
      "source": [
        "<a href=\"https://colab.research.google.com/github/fsajad9/Power_flow/blob/main/Nonlinear_optimization_problem.ipynb\" target=\"_parent\"><img src=\"https://colab.research.google.com/assets/colab-badge.svg\" alt=\"Open In Colab\"/></a>"
      ]
    },
    {
      "cell_type": "code",
      "execution_count": 14,
      "metadata": {
        "id": "HAUpIJA8fnBv"
      },
      "outputs": [],
      "source": [
        "import numpy as np\n",
        "import matplotlib.pyplot as plt\n"
      ]
    },
    {
      "cell_type": "code",
      "source": [
        "def f(x):\n",
        "  return x**2-2*x-2\n",
        "def g(x):\n",
        "  return 2*x-2  "
      ],
      "metadata": {
        "id": "AU1jnAS5h2sJ"
      },
      "execution_count": 2,
      "outputs": []
    },
    {
      "cell_type": "code",
      "source": [
        "x0=5\n",
        "ep=10**(-6)\n",
        "me=f(x0)\n",
        "k=0\n",
        "loss=[]\n",
        "gr=[]\n",
        "xx=[]\n",
        "while np.linalg.norm(me)>ep:\n",
        "  xx.append(x0)\n",
        "  loss.append(f(x0))\n",
        "  gr.append(g(x0))\n",
        "  print([k,f(x0),g(x0),x0])\n",
        "  x=x0-f(x0)/g(x0)\n",
        "  x0=x\n",
        "  me=f(x0)\n",
        "  \n",
        "  k=k+1\n"
      ],
      "metadata": {
        "colab": {
          "base_uri": "https://localhost:8080/"
        },
        "id": "8rZdo5OUiDF2",
        "outputId": "1628769b-37a3-489c-82a2-de7d06b167ad"
      },
      "execution_count": 33,
      "outputs": [
        {
          "output_type": "stream",
          "name": "stdout",
          "text": [
            "[0, 13, 8, 5]\n",
            "[1, 2.640625, 4.75, 3.375]\n",
            "[2, 0.3090482167590034, 3.6381578947368425, 2.8190789473684212]\n",
            "[3, 0.00721588157874109, 3.4682652041496143, 2.734132602074807]\n",
            "[4, 4.328667197128766e-06, 3.4641041142940248, 2.7320520571470124]\n"
          ]
        }
      ]
    },
    {
      "cell_type": "code",
      "source": [
        "t=np.linspace(-2,5,100)\n",
        "y=f(t)"
      ],
      "metadata": {
        "id": "mcmlajHAkL8o"
      },
      "execution_count": 22,
      "outputs": []
    },
    {
      "cell_type": "code",
      "source": [
        "plt.plot(t,y)\n",
        "plt.scatter(xx,loss,color='r')"
      ],
      "metadata": {
        "colab": {
          "base_uri": "https://localhost:8080/",
          "height": 282
        },
        "id": "y0wI96oDkL_u",
        "outputId": "161a4b53-a6a2-4f19-9ebb-1b9a4594c5eb"
      },
      "execution_count": 37,
      "outputs": [
        {
          "output_type": "execute_result",
          "data": {
            "text/plain": [
              "<matplotlib.collections.PathCollection at 0x7f65b33708e0>"
            ]
          },
          "metadata": {},
          "execution_count": 37
        },
        {
          "output_type": "display_data",
          "data": {
            "text/plain": [
              "<Figure size 432x288 with 1 Axes>"
            ],
            "image/png": "[encoded data removed]"
          },
          "metadata": {
            "needs_background": "light"
          }
        }
      ]
    },
    {
      "cell_type": "code",
      "source": [
        "def f1(x1):\n",
        "  x=x1[0]\n",
        "  y=x1[1]\n",
        "  g1=3*x**2-2*y**2+6\n",
        "  g2=5*x**2-7*y**2+43\n",
        "  g=np.array([g1,g2])\n",
        "  return g"
      ],
      "metadata": {
        "id": "7oC3lNMkiDMW"
      },
      "execution_count": 44,
      "outputs": []
    },
    {
      "cell_type": "code",
      "source": [
        "def g1(x1):\n",
        "  x=x1[0]\n",
        "  y=x1[1]\n",
        "  return np.array([[6*x,-4*y],[10*x,-14*y]])\n"
      ],
      "metadata": {
        "id": "ElwTzZYzk53H"
      },
      "execution_count": 45,
      "outputs": []
    },
    {
      "cell_type": "code",
      "source": [
        "g1([1,1])"
      ],
      "metadata": {
        "colab": {
          "base_uri": "https://localhost:8080/"
        },
        "id": "_0vqW_zumYZg",
        "outputId": "221f32d0-6de6-4310-a707-482f752456f9"
      },
      "execution_count": 42,
      "outputs": [
        {
          "output_type": "execute_result",
          "data": {
            "text/plain": [
              "array([[  6,  -4],\n",
              "       [ 10, -14]])"
            ]
          },
          "metadata": {},
          "execution_count": 42
        }
      ]
    },
    {
      "cell_type": "code",
      "source": [
        "x0=[1,1]\n",
        "ep=10**(-9)\n",
        "me=f1(x0)\n",
        "k=0\n",
        "loss1=[]\n",
        "gr=[]\n",
        "xx=[]\n",
        "while np.linalg.norm(me)>ep:\n",
        "  xx.append(x0)\n",
        "  loss1.append(me)\n",
        "  print([k,np.linalg.norm(me),x0])\n",
        "  dx=np.dot(np.linalg.inv(g1(x0)),f1(x0).T)\n",
        "  x=x0-dx\n",
        "  x0=x\n",
        "  me=f1(x0)\n",
        "  \n",
        "  k=k+1"
      ],
      "metadata": {
        "colab": {
          "base_uri": "https://localhost:8080/"
        },
        "id": "c-LltKf8ojdB",
        "outputId": "1aa19917-dfcb-4453-b497-ae9d91e9a619"
      },
      "execution_count": 57,
      "outputs": [
        {
          "output_type": "stream",
          "name": "stdout",
          "text": [
            "[0, 41.593268686170845, [1, 1]]\n",
            "[1, 103.865899119971, array([2.5, 5. ])]\n",
            "[2, 17.499320343944778, array([2.05, 3.4 ])]\n",
            "[3, 1.0180792521452697, array([2.00060976, 3.02352941])]\n",
            "[4, 0.003997112613208929, array([2.00000009, 3.00009155])]\n",
            "[5, 6.102112151380741e-08, array([2., 3.])]\n"
          ]
        }
      ]
    },
    {
      "cell_type": "code",
      "source": [
        "plt.plot(loss1)"
      ],
      "metadata": {
        "colab": {
          "base_uri": "https://localhost:8080/",
          "height": 300
        },
        "id": "4bfrdVQmq6hv",
        "outputId": "4a00af06-0c8e-45b5-b83d-ac030324b50e"
      },
      "execution_count": 58,
      "outputs": [
        {
          "output_type": "execute_result",
          "data": {
            "text/plain": [
              "[<matplotlib.lines.Line2D at 0x7f65b30937c0>,\n",
              " <matplotlib.lines.Line2D at 0x7f65b3093820>]"
            ]
          },
          "metadata": {},
          "execution_count": 58
        },
        {
          "output_type": "display_data",
          "data": {
            "text/plain": [
              "<Figure size 432x288 with 1 Axes>"
            ],
            "image/png": "[encoded data removed]"
          },
          "metadata": {
            "needs_background": "light"
          }
        }
      ]
    },
    {
      "cell_type": "code",
      "source": [],
      "metadata": {
        "id": "3WzSGclyq8_n"
      },
      "execution_count": null,
      "outputs": []
    }
  ]
}