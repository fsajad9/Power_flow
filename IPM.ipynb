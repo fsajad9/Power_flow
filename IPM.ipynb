{
  "nbformat": 4,
  "nbformat_minor": 0,
  "metadata": {
    "colab": {
      "provenance": [],
      "authorship_tag": "ABX9TyM7nyfm9CEZnXy2JlHMWFsm",
      "include_colab_link": true
    },
    "kernelspec": {
      "name": "python3",
      "display_name": "Python 3"
    },
    "language_info": {
      "name": "python"
    }
  },
  "cells": [
    {
      "cell_type": "markdown",
      "metadata": {
        "id": "view-in-github",
        "colab_type": "text"
      },
      "source": [
        "<a href=\"https://colab.research.google.com/github/fsajad9/Power_flow/blob/main/IPM.ipynb\" target=\"_parent\"><img src=\"https://colab.research.google.com/assets/colab-badge.svg\" alt=\"Open In Colab\"/></a>"
      ]
    },
    {
      "cell_type": "code",
      "execution_count": null,
      "metadata": {
        "id": "DYlgvVx5ueNp"
      },
      "outputs": [],
      "source": [
        "\n",
        "import numpy as np\n",
        "import numdifftools as nd"
      ]
    },
    {
      "cell_type": "code",
      "source": [
        "A=np.array([[1,0,1,0],[0,1,0,1]])\n",
        "b=np.array([2,2])\n",
        "c=np.array([-1,-1,0,0])\n",
        "y=np.array([-2,-2])\n",
        "s=np.array([1,1,2,2])\n",
        "x=np.array([1,1,1,1])\n",
        "I=np.eye(4)\n",
        "Z1=np.zeros((2,2))\n",
        "Z2=np.zeros((4,2))\n",
        "Z3=np.zeros((4,4))\n",
        "ep=10**(-5)\n",
        "mu=1\n",
        "thet=0.9\n",
        "gap=np.dot(c.T,x)-np.dot(b.T,y)\n",
        "k=0"
      ],
      "metadata": {
        "id": "SJWZ4vCLFeTC"
      },
      "execution_count": null,
      "outputs": []
    },
    {
      "cell_type": "code",
      "source": [
        "while gap>ep:\n",
        "  k+=1\n",
        "  mu=mu*(1-thet)\n",
        "  X=np.diag(x)\n",
        "  S=np.diag(s)\n",
        "  M=np.block([[A,Z1,Z2.T],[Z3,A.T,I],[S,Z2,X]])\n",
        "  B=np.block([0,0,0,0,0,0,mu-x[0]*s[0],mu-x[1]*s[1],mu-x[2]*s[2],mu-x[3]*s[3]])\n",
        "  sol=np.dot(np.linalg.inv(M),B.T)\n",
        "  x=x+0.2*sol[0:4]\n",
        "  y=y+0.2*sol[4:6]\n",
        "  s=s+0.2*sol[6:10]\n",
        "  gap=np.dot(c.T,x)-np.dot(b.T,y)\n",
        "\n",
        "\n",
        "\n"
      ],
      "metadata": {
        "id": "pPPclCK5HvPZ"
      },
      "execution_count": null,
      "outputs": []
    },
    {
      "cell_type": "code",
      "source": [
        "gap"
      ],
      "metadata": {
        "colab": {
          "base_uri": "https://localhost:8080/"
        },
        "id": "CIR9x1HaUo5q",
        "outputId": "456fd3c4-a012-44d2-f568-2981cbb2537a"
      },
      "execution_count": null,
      "outputs": [
        {
          "output_type": "execute_result",
          "data": {
            "text/plain": [
              "9.37011559054568e-06"
            ]
          },
          "metadata": {},
          "execution_count": 179
        }
      ]
    },
    {
      "cell_type": "code",
      "source": [
        "k"
      ],
      "metadata": {
        "colab": {
          "base_uri": "https://localhost:8080/"
        },
        "id": "prbDpKI1NMjv",
        "outputId": "cd241b1e-08e8-45a3-ef96-091bd755334f"
      },
      "execution_count": null,
      "outputs": [
        {
          "output_type": "execute_result",
          "data": {
            "text/plain": [
              "60"
            ]
          },
          "metadata": {},
          "execution_count": 180
        }
      ]
    }
  ]
}