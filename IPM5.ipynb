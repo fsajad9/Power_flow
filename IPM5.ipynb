{
  "nbformat": 4,
  "nbformat_minor": 0,
  "metadata": {
    "colab": {
      "provenance": [],
      "authorship_tag": "ABX9TyNWZBk4EMd8B4nO4BUh5nyc",
      "include_colab_link": true
    },
    "kernelspec": {
      "name": "python3",
      "display_name": "Python 3"
    },
    "language_info": {
      "name": "python"
    }
  },
  "cells": [
    {
      "cell_type": "markdown",
      "metadata": {
        "id": "view-in-github",
        "colab_type": "text"
      },
      "source": [
        "<a href=\"https://colab.research.google.com/github/fsajad9/Power_flow/blob/main/IPM5.ipynb\" target=\"_parent\"><img src=\"https://colab.research.google.com/assets/colab-badge.svg\" alt=\"Open In Colab\"/></a>"
      ]
    },
    {
      "cell_type": "code",
      "execution_count": 32,
      "metadata": {
        "id": "96SKwD5AVJqz"
      },
      "outputs": [],
      "source": [
        "import numpy as np\n",
        "import matplotlib.pyplot as plt"
      ]
    },
    {
      "cell_type": "code",
      "source": [
        "def clas(A,b,c,y,x,s,ep,gap,thet,Z1,Z2,Z3,I,zv,eee,alp,m,mu):\n",
        "  f1=[gap]\n",
        "  k=0\n",
        "  mu=mu\n",
        "  u=[]\n",
        "  u.append(np.dot(c.T,x))\n",
        "  while gap>ep:\n",
        "    k+=1\n",
        "    mu=mu*(1-thet)\n",
        "    #mu=np.dot(x.T,s)/4\n",
        "    X=np.diag(x)\n",
        "    S=np.diag(s)\n",
        "    M=np.block([[A,Z1,Z2.T],[Z3,A.T,I],[S,Z2,X]])\n",
        "    B=np.block([zv,zv,zv,mu*eee-x*s])\n",
        "    sol=np.dot(np.linalg.inv(M),B.T)\n",
        "    x=x+alp*sol[0:2*m]\n",
        "    y=y+alp*sol[2*m:3*m]\n",
        "    s=s+alp*sol[3*m:]\n",
        "    f1.append(gap)\n",
        "    gap=np.dot(c.T,x)-np.dot(b.T,y)\n",
        "    print([np.dot(c.T,x),np.dot(b.T,y)])\n",
        "    u.append(np.dot(c.T,x))\n",
        "  return gap,k,f1,u"
      ],
      "metadata": {
        "id": "umJ-jr35VQYt"
      },
      "execution_count": 33,
      "outputs": []
    },
    {
      "cell_type": "code",
      "source": [
        "def BB(x,s,mu,m):\n",
        "  zv=np.zeros(m)\n",
        "  eee=np.array([1 for i in range(2*m)])\n",
        "  return np.block([zv,zv,zv,mu*eee-x*s])\n",
        "def MM(A,Z1,Z2,Z3,I,x,s):\n",
        "  X=np.diag(x)\n",
        "  S=np.diag(s)\n",
        "  return np.block([[A,Z1,Z2.T],[Z3,A.T,I],[S,Z2,X]])"
      ],
      "metadata": {
        "id": "8jiJH-pXWl-o"
      },
      "execution_count": 34,
      "outputs": []
    },
    {
      "cell_type": "code",
      "source": [
        "def impro(A,b,c,y,x,s,ep,gap,thet,Z1,Z2,Z3,I,zv,eee,alp,m,mu):\n",
        "  f2=[gap]\n",
        "  k=0\n",
        "  u=[]\n",
        "  u.append(np.dot(c.T,x))\n",
        "  while k<30:\n",
        "    if k==0:\n",
        "      mu=mu*(1-thet)\n",
        "      M=MM(A,Z1,Z2,Z3,I,x,s)\n",
        "      B=BB(x,s,mu,m)\n",
        "      sol=np.dot(np.linalg.inv(M),B.T)\n",
        "      x=x+alp*sol[0:2*m]\n",
        "      y=y+alp*sol[2*m:3*m]\n",
        "      s=s+alp*sol[3*m:]\n",
        "      M=MM(A,Z1,Z2,Z3,I,0.5*(x+x),0.5*(s+s))\n",
        "      B=BB(x,s,0,m)\n",
        "      sol=np.dot(np.linalg.inv(M),B.T)\n",
        "      x=x+alp*sol[0:2*m]\n",
        "      y=y+alp*sol[2*m:3*m]\n",
        "      s=s+alp*sol[3*m:]\n",
        "      gap=np.dot(c.T,x)-np.dot(b.T,y)\n",
        "      tt=np.dot(c.T,x)\n",
        "    else:\n",
        "      mu=mu*(1-thet)\n",
        "      #mu=np.dot(x.T,s)/4\n",
        "  \n",
        "      M=MM(A,Z1,Z2,Z3,I,0.5*(x+x),0.5*(s+s))\n",
        "      B=BB(x,s,mu,m)\n",
        "      sol=np.dot(np.linalg.inv(M),B.T)\n",
        "      x=x+alp*sol[0:2*m]\n",
        "      y=y+alp*sol[2*m:3*m]\n",
        "      s=s+alp*sol[3*m:]\n",
        "       # mu=mu*(1-thet)\n",
        "      M=MM(A,Z1,Z2,Z3,I,0.5*(x+x),0.5*(s+s))\n",
        "      B=BB(x,s,0,m)\n",
        "      sol=np.dot(np.linalg.inv(M),B.T)\n",
        "      x=x+alp*sol[0:2*m]\n",
        "      y=y+alp*sol[2*m:3*m]\n",
        "      s=s+alp*sol[3*m:]\n",
        "      tt=np.dot(c.T,x)\n",
        "    f2.append(gap)\n",
        "    gap=np.dot(c.T,x)-np.dot(b.T,y)\n",
        "    k=k+1\n",
        "    print([np.dot(c.T,x),np.dot(b.T,y)])\n",
        "    u.append(tt)\n",
        "  return gap,k,f2,u  \n"
      ],
      "metadata": {
        "id": "sorurkutWa0n"
      },
      "execution_count": 35,
      "outputs": []
    },
    {
      "cell_type": "code",
      "source": [
        "def impro1(A,b,c,y,x,s,ep,gap,thet,Z1,Z2,Z3,I,zv,eee,alp,m,mu):\n",
        "  f2=[gap]\n",
        "  k=0\n",
        "  u=[]\n",
        "  u.append(np.dot(c.T,x))\n",
        "  while k<10:\n",
        "    if k==0:\n",
        "      mu=mu*(1-thet)\n",
        "      M=MM(A,Z1,Z2,Z3,I,x,s)\n",
        "      B=BB(x,s,mu,m)\n",
        "      sol=np.dot(np.linalg.inv(M),B.T)\n",
        "      xx=x+alp*sol[0:2*m]\n",
        "      yy=y+alp*sol[2*m:3*m]\n",
        "      ss=s+alp*sol[3*m:]\n",
        "      M=MM(A,Z1,Z2,Z3,I,0.5*(x+xx),0.5*(s+ss))\n",
        "      B=BB(x,s,0,m)\n",
        "      sol=np.dot(np.linalg.inv(M),B.T)\n",
        "      x=x+alp*sol[0:2*m]\n",
        "      y=y+alp*sol[2*m:3*m]\n",
        "      s=s+alp*sol[3*m:]\n",
        "      gap=np.dot(c.T,x)-np.dot(b.T,y)\n",
        "      tt=np.dot(c.T,x)\n",
        "    else:\n",
        "      mu=mu*(1-thet)\n",
        "      #mu=np.dot(x.T,s)/4\n",
        "  \n",
        "      M=MM(A,Z1,Z2,Z3,I,0.5*(x+x),0.5*(s+s))\n",
        "      B=BB(x,s,mu,m)\n",
        "      sol=np.dot(np.linalg.inv(M),B.T)\n",
        "      xx=x+alp*sol[0:2*m]\n",
        "      yy=y+alp*sol[2*m:3*m]\n",
        "      ss=s+alp*sol[3*m:]\n",
        "       # mu=mu*(1-thet)\n",
        "      M=MM(A,Z1,Z2,Z3,I,0.5*(x+xx),0.5*(s+ss))\n",
        "      B=BB(x,s,0,m)\n",
        "      sol=np.dot(np.linalg.inv(M),B.T)\n",
        "      x=x+alp*sol[0:2*m]\n",
        "      y=y+alp*sol[2*m:3*m]\n",
        "      s=s+alp*sol[3*m:]\n",
        "      tt=np.dot(c.T,x)\n",
        "    f2.append(gap)\n",
        "    gap=np.dot(c.T,x)-np.dot(b.T,y)\n",
        "    k=k+1\n",
        "    print([np.dot(c.T,x),np.dot(b.T,y)])\n",
        "    u.append(tt)\n",
        "  return gap,k,f2,u "
      ],
      "metadata": {
        "id": "kFUuuTrfwia2"
      },
      "execution_count": 36,
      "outputs": []
    },
    {
      "cell_type": "code",
      "source": [
        "m=10\n",
        "n=2*m\n",
        "I1=np.eye(m)\n",
        "A=np.block([I1,I1])\n",
        "ee=np.array([1 for i in range(m)])\n",
        "b=2*ee\n",
        "zv=np.zeros(m)\n",
        "c=np.block([-ee,zv])\n",
        "y=-2*ee\n",
        "s=np.block([ee,2*ee])\n",
        "x=np.block([ee,ee])\n",
        "Z1=np.zeros((m,m))\n",
        "Z2=np.zeros((2*m,m))\n",
        "Z3=np.zeros((2*m,2*m))\n",
        "ep=10**(-6)\n",
        "I=np.eye(2*m)\n",
        "mu=1\n",
        "thet=1/np.sqrt(n)\n",
        "gap=np.dot(c.T,x)-np.dot(b.T,y)\n",
        "alp=1\n",
        "eee=np.array([1 for i in range(2*m)])"
      ],
      "metadata": {
        "id": "qe5pod3bWa3U"
      },
      "execution_count": 37,
      "outputs": []
    },
    {
      "cell_type": "code",
      "source": [
        "gap1,k1,f1,u1=clas(A,b,c,y,x,s,ep,gap,thet,Z1,Z2,Z3,I,zv,eee,alp,m,mu)"
      ],
      "metadata": {
        "colab": {
          "base_uri": "https://localhost:8080/"
        },
        "id": "0T7V54SPWa57",
        "outputId": "97431075-9d86-4f69-91d5-c2f2b12ebd53"
      },
      "execution_count": 38,
      "outputs": [
        {
          "output_type": "stream",
          "name": "stdout",
          "text": [
            "[-13.333333333333336, -28.861197378333756]\n",
            "[-15.527708570259797, -27.58343666026064]\n",
            "[-16.29379638717443, -25.653781724425716]\n",
            "[-16.961338207316096, -24.22836719631786]\n",
            "[-17.540081488114808, -23.182153395729625]\n",
            "[-18.028354038578282, -22.408820314256236]\n",
            "[-18.431608730481752, -21.832572969603586]\n",
            "[-18.75949927064958, -21.399984786999187]\n",
            "[-19.02308325853996, -21.073138264073425]\n",
            "[-19.23319186675849, -20.82484063729331]\n",
            "[-19.399623675491394, -20.635368961304227]\n",
            "[-19.530836499436425, -20.490260739054023]\n",
            "[-19.63391408973902, -20.378804547452024]\n",
            "[-19.71466964095446, -20.29299752874374]\n",
            "[-19.777806012025014, -20.22681585277623]\n",
            "[-19.82708894076017, -20.17569712886278]\n",
            "[-19.86551120184484, -20.13616822933641]\n",
            "[-19.89543803577514, -20.105574312060785]\n",
            "[-19.918730928264363, -20.081879304718672]\n",
            "[-19.93685027548483, -20.063517565922087]\n",
            "[-19.950939053507213, -20.049282676750128]\n",
            "[-19.96189016779033, -20.038243488360767]\n",
            "[-19.970400183555576, -20.029680382615677]\n",
            "[-19.977011910318193, -20.023036653896483]\n",
            "[-19.982147987903428, -20.017881285952914]\n",
            "[-19.98613727809296, -20.013880367792552]\n",
            "[-19.989235545224382, -20.01077509147656]\n",
            "[-19.99164162718468, -20.008364784474427]\n",
            "[-19.993510059610582, -20.006493805250503]\n",
            "[-19.994960918915595, -20.005041410770165]\n",
            "[-19.996087489475848, -20.003913914827077]\n",
            "[-19.996962231527053, -20.003038614967668]\n",
            "[-19.99764142372898, -20.00235908652654]\n",
            "[-19.998168773124277, -20.00183153445081]\n",
            "[-19.99857822120335, -20.00142196419873]\n",
            "[-19.998896124513646, -20.001103987244203]\n",
            "[-19.999142948875303, -20.000857118490813]\n",
            "[-19.999334585485194, -20.000665455122185]\n",
            "[-19.99948337316917, -20.000516651308406]\n",
            "[-19.999598892315706, -20.000401122439047]\n",
            "[-19.99968858143978, -20.000311427454175]\n",
            "[-19.999758215974765, -20.00024178938639]\n",
            "[-19.99981228006103, -20.0001877231706]\n",
            "[-19.99985425523494, -20.000145746713045]\n",
            "[-19.99988684458605, -20.000113156588167]\n",
            "[-19.999912146803887, -20.000087853903917]\n",
            "[-19.999931791314303, -20.000068209112353]\n",
            "[-19.999947043203054, -20.000052957054134]\n",
            "[-19.999958884680517, -20.000041115474513]\n",
            "[-19.999968078331985, -20.00003192176146]\n",
            "[-19.999975216225838, -20.000024783830494]\n",
            "[-19.999980758041325, -20.000019241992636]\n",
            "[-19.99998506067114, -20.000014939349338]\n",
            "[-19.99998840120485, -20.000011598807497]\n",
            "[-19.99999099477322, -20.000009005234222]\n",
            "[-19.999993008402498, -20.000006991601996]\n",
            "[-19.999994571770834, -20.000005428231873]\n",
            "[-19.99999578555954, -20.000004214442093]\n",
            "[-19.999996727936935, -20.000003272064045]\n",
            "[-19.999997459592393, -20.000002540408204]\n",
            "[-19.99999802764475, -20.000001972355612]\n",
            "[-19.99999846867676, -20.000001531323463]\n",
            "[-19.999998811091025, -20.000001188909106]\n",
            "[-19.999999076939144, -20.00000092306095]\n",
            "[-19.99999928334182, -20.00000071665824]\n",
            "[-19.999999443591456, -20.000000556408583]\n",
            "[-19.999999568008185, -20.00000043199185]\n"
          ]
        }
      ]
    },
    {
      "cell_type": "code",
      "source": [
        "gap2,k2,f2,u2=impro(A,b,c,y,x,s,ep,gap,thet,Z1,Z2,Z3,I,zv,eee,alp,m,mu)\n"
      ],
      "metadata": {
        "colab": {
          "base_uri": "https://localhost:8080/"
        },
        "id": "pQxH-69sYBKA",
        "outputId": "767e5c2b-c11a-41a8-c065-b8682be96aba"
      },
      "execution_count": 39,
      "outputs": [
        {
          "output_type": "stream",
          "name": "stdout",
          "text": [
            "[-17.338324024222885, -17.338324024222885]\n",
            "[-18.278014475518148, -18.278014475518148]\n",
            "[-18.92572785931054, -18.925727859310545]\n",
            "[-19.34432638676478, -19.344326386764784]\n",
            "[-19.603027449006767, -19.60302744900677]\n",
            "[-19.760343945958297, -19.760343945958304]\n",
            "[-19.855460988096972, -19.85546098809698]\n",
            "[-19.912857245368407, -19.91285724536841]\n",
            "[-19.947467950403624, -19.94746795040363]\n",
            "[-19.968333617595448, -19.96833361759545]\n",
            "[-19.98091176599247, -19.980911765992474]\n",
            "[-19.988493835124142, -19.988493835124146]\n",
            "[-19.99306423217378, -19.99306423217378]\n",
            "[-19.995819211684132, -19.995819211684132]\n",
            "[-19.997479877256733, -19.997479877256733]\n",
            "[-19.998480904188103, -19.998480904188106]\n",
            "[-19.999084309678935, -19.999084309678935]\n",
            "[-19.999448034319673, -19.999448034319677]\n",
            "[-19.99966728259126, -19.99966728259126]\n",
            "[-19.999799442469275, -19.99979944246928]\n",
            "[-19.999879106647114, -19.99987910664712]\n",
            "[-19.999927127130476, -19.999927127130483]\n",
            "[-19.999956073224993, -19.999956073224997]\n",
            "[-19.999973521537232, -19.999973521537235]\n",
            "[-19.99998403914263, -19.999984039142632]\n",
            "[-19.99999037901217, -19.99999037901218]\n",
            "[-19.99999420059934, -19.999994200599346]\n",
            "[-19.999996504200126, -19.999996504200134]\n",
            "[-19.999997892779362, -19.999997892779366]\n",
            "[-19.999998729796047, -19.999998729796054]\n"
          ]
        }
      ]
    },
    {
      "cell_type": "code",
      "source": [
        "gap3,k3,f3,u3=impro1(A,b,c,y,x,s,ep,gap,thet,Z1,Z2,Z3,I,zv,eee,alp,m,mu)"
      ],
      "metadata": {
        "id": "aUyYEQXDw9O4",
        "outputId": "bcbb735b-552b-435d-a06f-a97498b1ca4e",
        "colab": {
          "base_uri": "https://localhost:8080/"
        }
      },
      "execution_count": 40,
      "outputs": [
        {
          "output_type": "stream",
          "name": "stdout",
          "text": [
            "[-15.747728658722107, -15.747728658722107]\n",
            "[-19.6138360920563, -19.6138360920563]\n",
            "[-19.999847365011355, -19.999847365011355]\n",
            "[-19.999999999999993, -19.999999999999996]\n",
            "[-20.0, -20.0]\n",
            "[-20.0, -20.0]\n",
            "[-20.0, -20.0]\n",
            "[-20.0, -20.0]\n",
            "[-20.0, -20.0]\n",
            "[-20.0, -20.0]\n"
          ]
        }
      ]
    },
    {
      "cell_type": "code",
      "source": [
        "print([k1,k2,k3])"
      ],
      "metadata": {
        "colab": {
          "base_uri": "https://localhost:8080/"
        },
        "id": "fs38e_QUmc33",
        "outputId": "df2b1a13-d623-482d-fd19-45d7f4088857"
      },
      "execution_count": 41,
      "outputs": [
        {
          "output_type": "stream",
          "name": "stdout",
          "text": [
            "[67, 30, 10]\n"
          ]
        }
      ]
    },
    {
      "cell_type": "code",
      "source": [
        "s1=min(u1)\n",
        "s2=min(u2)\n",
        "s3=min(u3)\n",
        "r=[s1,s2,s3]\n",
        "s=min(r)\n",
        "f1=u1-s+10**(-11)\n",
        "f2=u2-s+10**(-11)\n",
        "f3=u3-s+10**(-11)"
      ],
      "metadata": {
        "id": "2tcKdgR9lXF1"
      },
      "execution_count": 42,
      "outputs": []
    },
    {
      "cell_type": "code",
      "source": [],
      "metadata": {
        "id": "elEOFE2dlXMy"
      },
      "execution_count": null,
      "outputs": []
    },
    {
      "cell_type": "code",
      "source": [
        "plt.plot(f1,'s-',label='clas',color='blue')\n",
        "plt.plot(f2,'o-',label='Improved',color='red')\n",
        "plt.plot(f3,'>-',label='New-method',color='green')\n",
        "plt.xlabel('Iter')\n",
        "plt.ylabel(r'$c^Tx-c^Tx^*$')\n",
        "plt.legend()\n",
        "plt.yscale('log')\n",
        "plt.show()"
      ],
      "metadata": {
        "colab": {
          "base_uri": "https://localhost:8080/",
          "height": 279
        },
        "id": "GD4wSXZvWa9I",
        "outputId": "d2117ff0-e55b-4e6c-a2db-ad93ab098177"
      },
      "execution_count": 44,
      "outputs": [
        {
          "output_type": "display_data",
          "data": {
            "text/plain": [
              "<Figure size 432x288 with 1 Axes>"
            ],
            "image/png": "[encoded data removed]"
          },
          "metadata": {
            "needs_background": "light"
          }
        }
      ]
    }
  ]
}